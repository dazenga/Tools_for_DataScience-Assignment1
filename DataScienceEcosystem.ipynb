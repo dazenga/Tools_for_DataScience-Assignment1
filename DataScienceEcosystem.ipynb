{
 "cells": [
  {
   "cell_type": "markdown",
   "id": "bcbda555-2993-4f46-ac2c-acd3f35de28d",
   "metadata": {},
   "source": [
    "# Data Science Tools and Ecosystem"
   ]
  },
  {
   "cell_type": "markdown",
   "id": "e3f34385-5fa9-4da4-814a-f06e4c400661",
   "metadata": {},
   "source": [
    "In this notebook, Data Science Tools and Ecosystem are summarized."
   ]
  },
  {
   "cell_type": "markdown",
   "id": "f56fc537-8484-40a6-ae3a-d253ec0ac11f",
   "metadata": {},
   "source": [
    "**Objectives:**\n",
    "* List popular languages for Data Science\n",
    "* List commonly used libraries by Data Scientists\n",
    "* List three development environment open source tools used in data science\n",
    "* Evaluate simple arithmentic expressions  \n"
   ]
  },
  {
   "cell_type": "markdown",
   "id": "af016813-4cf2-4d8f-a750-432340a686ec",
   "metadata": {},
   "source": [
    "Some of the popular languages that Data Scientists use are:\n",
    "1. Python\n",
    "2. R\n",
    "3. SQL"
   ]
  },
  {
   "cell_type": "markdown",
   "id": "da4b58dc-b389-4530-9520-6bf1d3c974ba",
   "metadata": {},
   "source": [
    "Some of the commonly used libraries used by Data Scientists include:\n",
    "1. matplotlib\n",
    "2. seaborn\n",
    "3. scikit-learn\n",
    "4. TensorFlow"
   ]
  },
  {
   "cell_type": "markdown",
   "id": "9eba9313-9fd5-4ebf-909b-4baf862d4445",
   "metadata": {},
   "source": [
    "|Data Science Tools|\n",
    "--------------------\n",
    "|Jupyter|\n",
    "|RStudio|\n",
    "|Spyder|"
   ]
  },
  {
   "cell_type": "markdown",
   "id": "2ccb0c31-a42f-4ee1-b843-f14ae2a16297",
   "metadata": {},
   "source": [
    "### Below are a few examples of evaluating arithmetic expressions in Python"
   ]
  },
  {
   "cell_type": "code",
   "execution_count": 4,
   "id": "82e092d6-8b7d-403f-bfd1-7238ef720d39",
   "metadata": {},
   "outputs": [
    {
     "data": {
      "text/plain": [
       "17"
      ]
     },
     "execution_count": 4,
     "metadata": {},
     "output_type": "execute_result"
    }
   ],
   "source": [
    "# This a simple arithmetic expression to mutiply then add integers\n",
    "\n",
    "(3*4)+5"
   ]
  },
  {
   "cell_type": "code",
   "execution_count": 19,
   "id": "3976a829-c7e5-4e80-a9e8-9c4542b777d6",
   "metadata": {},
   "outputs": [
    {
     "name": "stdout",
     "output_type": "stream",
     "text": [
      "200 minutes in hours is:\n",
      "3.33 hours\n",
      "or:\n",
      "3 hours and 20 minutes\n"
     ]
    }
   ],
   "source": [
    "# This will convert 200 minutes to hours by diving by 60\n",
    "mins = 200\n",
    "print(\"200 minutes in hours is:\")\n",
    "print(round(mins/60,2),\"hours\")\n",
    "print(\"or:\")\n",
    "print(mins//60,\"hours\",\"and\",mins%60,\"minutes\")\n"
   ]
  },
  {
   "cell_type": "markdown",
   "id": "e6d71356-ac57-4841-a190-ec81ad1c07a4",
   "metadata": {},
   "source": [
    "## Author\n",
    "David Azenga\n"
   ]
  },
  {
   "cell_type": "code",
   "execution_count": null,
   "id": "f4215470-51ba-4e2a-832f-f81d392b05f2",
   "metadata": {},
   "outputs": [],
   "source": []
  }
 ],
 "metadata": {
  "kernelspec": {
   "display_name": "Python 3 (ipykernel)",
   "language": "python",
   "name": "python3"
  },
  "language_info": {
   "codemirror_mode": {
    "name": "ipython",
    "version": 3
   },
   "file_extension": ".py",
   "mimetype": "text/x-python",
   "name": "python",
   "nbconvert_exporter": "python",
   "pygments_lexer": "ipython3",
   "version": "3.8.2"
  }
 },
 "nbformat": 4,
 "nbformat_minor": 5
}
